{
  "cells": [
    {
      "cell_type": "markdown",
      "metadata": {
        "id": "view-in-github",
        "colab_type": "text"
      },
      "source": [
        "<a href=\"https://colab.research.google.com/github/yalopez84/sitio_web_con_streamlit/blob/master/sitio_web_streamlit.ipynb\" target=\"_parent\"><img src=\"https://colab.research.google.com/assets/colab-badge.svg\" alt=\"Open In Colab\"/></a>"
      ]
    },
    {
      "cell_type": "code",
      "execution_count": 9,
      "metadata": {
        "colab": {
          "base_uri": "https://localhost:8080/"
        },
        "id": "IRJ0es5M4FhC",
        "outputId": "41d9076a-8467-4493-b037-2701c9f44af3"
      },
      "outputs": [
        {
          "output_type": "stream",
          "name": "stdout",
          "text": [
            "\u001b[2K     \u001b[90m━━━━━━━━━━━━━━━━━━━━━━━━━━━━━━━━━━━━━━━━\u001b[0m \u001b[32m8.1/8.1 MB\u001b[0m \u001b[31m19.4 MB/s\u001b[0m eta \u001b[36m0:00:00\u001b[0m\n",
            "\u001b[2K     \u001b[90m━━━━━━━━━━━━━━━━━━━━━━━━━━━━━━━━━━━━━━━━\u001b[0m \u001b[32m53.0/53.0 kB\u001b[0m \u001b[31m5.6 MB/s\u001b[0m eta \u001b[36m0:00:00\u001b[0m\n",
            "\u001b[2K     \u001b[90m━━━━━━━━━━━━━━━━━━━━━━━━━━━━━━━━━━━━━━━━\u001b[0m \u001b[32m195.4/195.4 kB\u001b[0m \u001b[31m19.8 MB/s\u001b[0m eta \u001b[36m0:00:00\u001b[0m\n",
            "\u001b[2K     \u001b[90m━━━━━━━━━━━━━━━━━━━━━━━━━━━━━━━━━━━━━━━━\u001b[0m \u001b[32m4.8/4.8 MB\u001b[0m \u001b[31m44.4 MB/s\u001b[0m eta \u001b[36m0:00:00\u001b[0m\n",
            "\u001b[2K     \u001b[90m━━━━━━━━━━━━━━━━━━━━━━━━━━━━━━━━━━━━━━━━\u001b[0m \u001b[32m83.0/83.0 kB\u001b[0m \u001b[31m9.0 MB/s\u001b[0m eta \u001b[36m0:00:00\u001b[0m\n",
            "\u001b[2K     \u001b[90m━━━━━━━━━━━━━━━━━━━━━━━━━━━━━━━━━━━━━━━━\u001b[0m \u001b[32m62.7/62.7 kB\u001b[0m \u001b[31m5.5 MB/s\u001b[0m eta \u001b[36m0:00:00\u001b[0m\n",
            "\u001b[2K     \u001b[90m━━━━━━━━━━━━━━━━━━━━━━━━━━━━━━━━━━━━━━━━\u001b[0m \u001b[32m802.4/802.4 kB\u001b[0m \u001b[31m9.4 MB/s\u001b[0m eta \u001b[36m0:00:00\u001b[0m\n",
            "\u001b[?25h"
          ]
        }
      ],
      "source": [
        "!pip install streamlit -q\n",
        "!pip install streamlit-lottie -q\n",
        "!pip install Pillow -q"
      ]
    },
    {
      "cell_type": "markdown",
      "metadata": {
        "id": "3OlVQwoQ5X4P"
      },
      "source": [
        "# Especificamos que la celda a continuación es como un fichero Python para poder ejecutarlo como el código de nuestro sitio Web\n",
        "\n",
        "Aspectos interesantes de esta solucion:\n",
        "-El link del video es \"https://www.youtube.com/watch?v=zeS2FlxF_0s\"\n",
        "\n",
        "-Para ejecutar desde colab un fichero .py ese codigo tiene que tener la instruccion \"%%writefile app.py\". Normalmente lo mantenemos comentariado cuando escribimos el codigo para ver los colores del editor.\n",
        "\n",
        "-Para ejecutar el codigo utilizamos \"!streamlit run app.py & npx localtunnel --port 8501\", ver que debe coincidir el nombre del fichero .py en este caso \"app.py\".\n",
        "\n",
        "-Al ejecutarlo nos brinda una direccion donde vamos para ver nuestro sitio \"your url is\", luego debemos entrar el ip que aqui se nos brinda en External URL, por ejemplo \"34.75.87.80\".\n",
        "\n",
        "-En el código streamlit cuando se dice st.columns(3) me refiero a que se tienen 3 columnas. Cuando se dice st.columns(1,2,2), me refiero a que se tienen 3 columnas, la segunda y la tercera con el doble del ancho de la primera."
      ]
    },
    {
      "cell_type": "code",
      "execution_count": 10,
      "metadata": {
        "colab": {
          "base_uri": "https://localhost:8080/"
        },
        "id": "92I8I4dK-g0z",
        "outputId": "706ef3e1-62b1-47b0-cc7f-3b02df0ec892"
      },
      "outputs": [
        {
          "output_type": "stream",
          "name": "stdout",
          "text": [
            "Drive already mounted at /content/drive; to attempt to forcibly remount, call drive.mount(\"/content/drive\", force_remount=True).\n"
          ]
        }
      ],
      "source": [
        "from google.colab import drive\n",
        "drive.mount('/content/drive')"
      ]
    },
    {
      "cell_type": "code",
      "execution_count": 11,
      "metadata": {
        "colab": {
          "base_uri": "https://localhost:8080/"
        },
        "id": "S4AjHDHN5KJZ",
        "outputId": "46505d4b-2791-44d8-ae77-462ed0d675e5"
      },
      "outputs": [
        {
          "output_type": "stream",
          "name": "stdout",
          "text": [
            "Overwriting app.py\n"
          ]
        }
      ],
      "source": [
        "%%writefile app.py\n",
        "\n",
        "import streamlit as st\n",
        "import requests\n",
        "from streamlit_lottie import st_lottie\n",
        "from PIL import Image\n",
        "from pydantic import BaseModel\n",
        "import json\n",
        "import codecs\n",
        "\n",
        "\n",
        "\n",
        "\n",
        "#Funcion para nuestra animacion\n",
        "def load_lottieurl(url):\n",
        "    r = requests.get(url)\n",
        "    if r.status_code != 200:\n",
        "        return None\n",
        "    return r.json()\n",
        "\n",
        "def prueba():\n",
        "    data = {\"user_query_field\": \"que es la nave\"}\n",
        "    headers = {\"Content-Type\": \"application/json; charset=utf-8\"}\n",
        "    url = 'https://lanave-assistant-dev.azurewebsites.net/query-stream/'\n",
        "\n",
        "    response = requests.post(url, json = data , headers = headers)\n",
        "    reader = response.body.getReader();\n",
        "    print(dir(response))\n",
        "    for i in range(1,10):\n",
        "        print('Hola', response.json())\n",
        "        yield i\n",
        "\n",
        "def cargarStream():\n",
        "    myobj = {\"user_query_field\": \"que es la nave\"}\n",
        "    response = requests.post('https://lanave-assistant-dev.azurewebsites.net/query-stream/', data = myobj);\n",
        "    print(\"aqui\",type(response))\n",
        "    return response\n",
        "\n",
        "lottie_coding = load_lottieurl(\"https://assets1.lottiefiles.com/packages/lf20_0yfsb3a1.json\")\n",
        "\n",
        "imagen_video = Image.open('/content/drive/MyDrive/11.png')\n",
        "\n",
        "with st.container():\n",
        "    st.subheader('Hola! Bienvenido a mi sitio Web 😊 🤗')\n",
        "    st.title('Introduccion a la ciencia de datos')\n",
        "    st.write(\"Bienvenidos a mi canal sobre ciencia de datos. Soy Ingeniero en IA, mi nombre es Yoan Antonio López Rodríguez\")\n",
        "    st.write(\"[Mas informacion > ](https://github.com/yalopez84)\")\n",
        "\n",
        "with st.container():\n",
        "    st.write('---')\n",
        "    left_column, right_column, otra_column = st.columns(3)\n",
        "    with left_column:\n",
        "             st.header('Mi objetivo')\n",
        "             st.write(\n",
        "                 \"\"\"\n",
        "                    La ciencia de datos es el estudio de datos con el fin de extraer información significativa para empresas.\n",
        "                    Es un enfoque multidisciplinario que combina principios y prácticas del campo de las matemáticas,\n",
        "                    la estadística, la inteligencia artificial y la ingeniería de computación para analizar grandes cantidades\n",
        "                    de datos. Este análisis permite que los científicos de datos planteen y respondan a preguntas como “qué pasó”,\n",
        "                    “por qué pasó”, “qué pasará” y “qué se puede hacer con los resultados”.\n",
        "                 \"\"\"\n",
        "             )\n",
        "             st.write(\"[Youtube > ](https://www.youtube.com/watch?v=zeS2FlxF_0s)\")\n",
        "    with right_column:\n",
        "        st_lottie(lottie_coding, height = 300, key = \"coding1\")\n",
        "    with otra_column:\n",
        "        st_lottie(lottie_coding, height = 300, key = \"coding2\")\n",
        "\n",
        "with st.container():\n",
        "  st.write(\"---\")\n",
        "  st.header(\"Mis videos sobre Ciencia de Datos seguro te gustarán\")\n",
        "  image_column, text_column, otra_column = st.columns((1,2,2))\n",
        "  with image_column:\n",
        "    st.image(imagen_video)\n",
        "  with text_column:\n",
        "    st.write(\n",
        "      \"\"\"\n",
        "      **Deep Learning** Deep learning is the subset of machine learning methods based on artificial\n",
        "      neural networks (ANNs) with representation learning. The adjective \"deep\" refers to the use\n",
        "      of multiple layers in the network. Methods used can be either supervised, semi-supervised or\n",
        "      unsupervised.\n",
        "      \"\"\"\n",
        "    )\n",
        "    st.markdown(\"[Ver video...](http:///youtube.mx)\")\n",
        "  with otra_column:\n",
        "    st.write(\n",
        "        \"\"\"\n",
        "        **Deep Learning** Deep learning is the subset of machine learning methods based on artificial\n",
        "        neural networks (ANNs) with representation learning. The adjective \"deep\" refers to the use\n",
        "        of multiple layers in the network. Methods used can be either supervised, semi-supervised or\n",
        "        unsupervised.\n",
        "        \"\"\"\n",
        "    )\n",
        "    st.markdown(\"[Ver video...](http:///youtube.mx)\")\n"
      ]
    },
    {
      "cell_type": "code",
      "execution_count": 12,
      "metadata": {
        "colab": {
          "base_uri": "https://localhost:8080/"
        },
        "id": "kSZsSZ_iPwhA",
        "outputId": "1c13f1f1-0f0d-4250-8e9e-c769c7b5c4bd"
      },
      "outputs": [
        {
          "output_type": "stream",
          "name": "stdout",
          "text": [
            "\n",
            "Collecting usage statistics. To deactivate, set browser.gatherUsageStats to False.\n",
            "\u001b[0m\n",
            "\u001b[K\u001b[?25hnpx: installed 22 in 2.629s\n",
            "your url is: https://cruel-results-sort.loca.lt\n",
            "\u001b[0m\n",
            "\u001b[34m\u001b[1m  You can now view your Streamlit app in your browser.\u001b[0m\n",
            "\u001b[0m\n",
            "\u001b[34m  Network URL: \u001b[0m\u001b[1mhttp://172.28.0.12:8501\u001b[0m\n",
            "\u001b[34m  External URL: \u001b[0m\u001b[1mhttp://34.83.156.196:8501\u001b[0m\n",
            "\u001b[0m\n",
            "\u001b[34m  Stopping...\u001b[0m\n",
            "^C\n"
          ]
        }
      ],
      "source": [
        "!streamlit run app.py & npx localtunnel --port 8501"
      ]
    }
  ],
  "metadata": {
    "colab": {
      "provenance": [],
      "authorship_tag": "ABX9TyOpr+t1TKlhEEJD1B1/VxBJ",
      "include_colab_link": true
    },
    "kernelspec": {
      "display_name": "Python 3",
      "name": "python3"
    },
    "language_info": {
      "name": "python"
    }
  },
  "nbformat": 4,
  "nbformat_minor": 0
}